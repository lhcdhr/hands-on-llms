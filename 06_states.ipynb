{
 "cells": [
  {
   "cell_type": "markdown",
   "metadata": {},
   "source": [
    "# Keeping track of information\n",
    "LLMs calls are inherently stateless - they do not have memory of any previous interactions. Every call is an independent event, and **YOU** must manage any information that needs to be carried over time.\n",
    "\n",
    "In this notebook we will look at a few different things that we might want to keep track of between calls."
   ]
  },
  {
   "cell_type": "markdown",
   "metadata": {},
   "source": [
    "## Conversation History\n",
    "Keeping track of the conversation history is actually easy. Firstly it is important to remember that LLMs often have the following pattern:\n",
    "\n",
    "```\n",
    "-> system prompt\n",
    "-> user prompt\n",
    "-> model response\n",
    "\n",
    "-> user prompt\n",
    "-> model response\n",
    "\n",
    "-> user prompt\n",
    "-> model response\n",
    "\n",
    "-> etc.\n",
    "```"
   ]
  },
  {
   "cell_type": "markdown",
   "metadata": {},
   "source": [
    "We actually saw an example of this in the prompting notebook when we looked at few-shot prompting.\n",
    "\n",
    "Here is a really simple example of how we can keep track of the conversation history. We can first define a `system_state` dictionary that will store important information for us. We can give it a `conversation_history` key that will store the conversation history."
   ]
  },
  {
   "cell_type": "code",
   "execution_count": 1,
   "metadata": {},
   "outputs": [],
   "source": [
    "system_state = {\n",
    "    \"conversation_history\": []\n",
    "}"
   ]
  },
  {
   "cell_type": "code",
   "execution_count": 2,
   "metadata": {},
   "outputs": [],
   "source": [
    "system_prompt = (\n",
    "    \"You are a helpful philosophical assistant. \"\n",
    "    \"You will help me think about philosophical questions. \"\n",
    "    \"Please keep your answers concise and to the point.\"\n",
    ")\n",
    "\n",
    "system_state[\"conversation_history\"].append({\n",
    "    \"role\": \"system\",\n",
    "    \"content\": system_prompt\n",
    "})\n",
    "\n",
    "user_prompt = \"What is the meaning of life?\"\n",
    "\n",
    "system_state[\"conversation_history\"].append({\n",
    "    \"role\": \"user\",\n",
    "    \"content\": user_prompt\n",
    "})"
   ]
  },
  {
   "cell_type": "code",
   "execution_count": 3,
   "metadata": {},
   "outputs": [
    {
     "name": "stdout",
     "output_type": "stream",
     "text": [
      "system: You are a helpful philosophical assistant. You will help me think about philosophical questions. Please keep your answers concise and to the point.\n",
      "\n",
      "user: What is the meaning of life?\n",
      "\n"
     ]
    }
   ],
   "source": [
    "for message in system_state[\"conversation_history\"]:\n",
    "    print(f\"{message['role']}: {message['content']}\\n\")"
   ]
  },
  {
   "cell_type": "markdown",
   "metadata": {},
   "source": [
    "Now we can use this conversation history to generate a response."
   ]
  },
  {
   "cell_type": "code",
   "execution_count": 4,
   "metadata": {},
   "outputs": [],
   "source": [
    "from openai import OpenAI\n",
    "client = OpenAI()\n",
    "\n",
    "import dotenv\n",
    "import os\n",
    "\n",
    "dotenv.load_dotenv()\n",
    "\n",
    "OPENAI_API_KEY = os.getenv(\"OPENAI_API_KEY\")\n",
    "\n",
    "from rich.pretty import pprint"
   ]
  },
  {
   "cell_type": "code",
   "execution_count": 5,
   "metadata": {},
   "outputs": [
    {
     "name": "stdout",
     "output_type": "stream",
     "text": [
      "The meaning of life is a deeply subjective question and can vary widely from person to person. Philosophically, it ranges from existentialist views, which suggest individuals create their own meaning, to religious perspectives that see life as a fulfillment of a divine purpose. Some thinkers propose that meaning is found in relationships, knowledge, creativity, or contributing to the greater good. Ultimately, it's a question that encourages personal reflection and exploration.\n"
     ]
    }
   ],
   "source": [
    "response = client.chat.completions.create(\n",
    "    model=\"gpt-4o-mini\",\n",
    "    messages=system_state[\"conversation_history\"],\n",
    "    max_tokens=512,\n",
    "    temperature=1.0\n",
    ")\n",
    "\n",
    "print(response.choices[0].message.content)"
   ]
  },
  {
   "cell_type": "markdown",
   "metadata": {},
   "source": [
    "Great, but now what happens if I want to ask a follow up question? Without the conversation history?"
   ]
  },
  {
   "cell_type": "code",
   "execution_count": 6,
   "metadata": {},
   "outputs": [
    {
     "name": "stdout",
     "output_type": "stream",
     "text": [
      "Of course! However, I need a bit more context to know what \"point 1\" refers to. Could you please provide more details or specify the topic or list you are referencing?\n"
     ]
    }
   ],
   "source": [
    "follow_up_prompt = \"Can you tell more about point 1?\"\n",
    "\n",
    "response = client.chat.completions.create(\n",
    "    model=\"gpt-4o-mini\",\n",
    "    messages=[{\n",
    "        \"role\": \"user\",\n",
    "        \"content\": follow_up_prompt\n",
    "    }],\n",
    "    max_tokens=512,\n",
    "    temperature=1.0\n",
    ")\n",
    "\n",
    "print(response.choices[0].message.content)\n"
   ]
  },
  {
   "cell_type": "markdown",
   "metadata": {},
   "source": [
    "Obviously it has no memory of the previous conversation. So we just need to append the follow up prompt to the conversation history."
   ]
  },
  {
   "cell_type": "code",
   "execution_count": 7,
   "metadata": {},
   "outputs": [
    {
     "name": "stdout",
     "output_type": "stream",
     "text": [
      "SYSTEM: You are a helpful philosophical assistant. You will help me think about philosophical questions. Please keep your answers concise and to the point.\n",
      "\n",
      "USER: What is the meaning of life?\n",
      "\n",
      "ASSISTANT: The meaning of life is a deeply personal and subjective question. Philosophers have proposed various answers, including seeking happiness, fulfilling potential, forming connections with others, or contributing to society. Existentialists suggest creating one's own meaning through choices and actions. Ultimately, it may depend on individual beliefs, values, and experiences.\n",
      "\n"
     ]
    }
   ],
   "source": [
    "response = client.chat.completions.create(\n",
    "    model=\"gpt-4o-mini\",\n",
    "    messages=system_state[\"conversation_history\"],\n",
    "    max_tokens=512,\n",
    "    temperature=1.0\n",
    ")\n",
    "\n",
    "system_state[\"conversation_history\"].append({\n",
    "    \"role\": \"assistant\",\n",
    "    \"content\": response.choices[0].message.content\n",
    "})\n",
    "\n",
    "for message in system_state[\"conversation_history\"]:\n",
    "    print(f\"{message['role'].upper()}: {message['content']}\\n\")"
   ]
  },
  {
   "cell_type": "markdown",
   "metadata": {},
   "source": [
    "And now we can keep the conversation going in a simple loop. If you run this cell a few times you will see that the conversation history is correctly maintained."
   ]
  },
  {
   "cell_type": "code",
   "execution_count": 8,
   "metadata": {},
   "outputs": [
    {
     "name": "stdout",
     "output_type": "stream",
     "text": [
      "Assistant: Eating serves multiple purposes: biologically, it provides the nutrients and energy necessary for survival; socially, it fosters connections and community; and culturally, it can express identity and tradition. Philosophically, it can symbolize the relationship between individuals and their environment, reflecting our choices and their implications for health and moral considerations.\n",
      "\n",
      "Assistant: Sleep serves several critical functions, both biological and psychological. Biologically, it is essential for physical health, allowing the body to repair, restore energy, and process information. Psychologically, it aids in emotional regulation, memory consolidation, and cognitive functioning. Philosophically, sleep can symbolize vulnerability, surrender, and the cyclical nature of existence, prompting reflections on consciousness and the nature of reality.\n",
      "\n",
      "Assistant: A large language model (LLM) is an artificial intelligence system designed to understand, generate, and manipulate human language. It is typically based on deep learning architectures, such as transformer networks, and is trained on vast amounts of text data to predict or generate text based on input. LLMs can perform various language tasks, including translation, summarization, and conversation, but they do not possess understanding or consciousness; they operate based on patterns learned from the data.\n",
      "\n",
      "Assistant: I am an artificial intelligence language model designed to assist with information and facilitate discussions on various topics, including philosophy. I process and generate text based on patterns learned from extensive datasets, but I do not have consciousness, emotions, or personal experiences. My purpose is to assist users in exploring ideas and answering questions.\n",
      "\n",
      "Assistant: Goodbye!\n"
     ]
    }
   ],
   "source": [
    "while True:\n",
    "    user_input = input(\"You: \")\n",
    "    \n",
    "    if user_input.lower() in ['exit', 'quit', 'bye']:\n",
    "        print(\"Assistant: Goodbye!\")\n",
    "        break\n",
    "    \n",
    "    system_state[\"conversation_history\"].append({\n",
    "        \"role\": \"user\",\n",
    "        \"content\": user_input\n",
    "    })\n",
    "    \n",
    "    response = client.chat.completions.create(\n",
    "        model=\"gpt-4o-mini\",\n",
    "        messages=system_state[\"conversation_history\"],\n",
    "        max_tokens=512,\n",
    "        temperature=1.0\n",
    "    )\n",
    "    \n",
    "    assistant_response = response.choices[0].message.content\n",
    "    print(f\"Assistant: {assistant_response}\\n\")\n",
    "    \n",
    "    system_state[\"conversation_history\"].append({\n",
    "        \"role\": \"assistant\",\n",
    "        \"content\": assistant_response\n",
    "    })"
   ]
  },
  {
   "cell_type": "code",
   "execution_count": 9,
   "metadata": {},
   "outputs": [],
   "source": [
    "from rich.console import Console\n",
    "from rich.text import Text\n",
    "\n",
    "console = Console()"
   ]
  },
  {
   "cell_type": "code",
   "execution_count": 10,
   "metadata": {},
   "outputs": [
    {
     "data": {
      "text/html": [
       "<pre style=\"white-space:pre;overflow-x:auto;line-height:normal;font-family:Menlo,'DejaVu Sans Mono',consolas,'Courier New',monospace\"><span style=\"color: #008000; text-decoration-color: #008000\">SYSTEM: You are a helpful philosophical assistant. You will help me think about philosophical questions. Please </span>\n",
       "<span style=\"color: #008000; text-decoration-color: #008000\">keep your answers concise and to the point.</span>\n",
       "</pre>\n"
      ],
      "text/plain": [
       "\u001b[32mSYSTEM: You are a helpful philosophical assistant. You will help me think about philosophical questions. Please \u001b[0m\n",
       "\u001b[32mkeep your answers concise and to the point.\u001b[0m\n"
      ]
     },
     "metadata": {},
     "output_type": "display_data"
    },
    {
     "data": {
      "text/html": [
       "<pre style=\"white-space:pre;overflow-x:auto;line-height:normal;font-family:Menlo,'DejaVu Sans Mono',consolas,'Courier New',monospace\"><span style=\"color: #008080; text-decoration-color: #008080\">USER: What is the meaning of life?</span>\n",
       "</pre>\n"
      ],
      "text/plain": [
       "\u001b[36mUSER: What is the meaning of life?\u001b[0m\n"
      ]
     },
     "metadata": {},
     "output_type": "display_data"
    },
    {
     "data": {
      "text/html": [
       "<pre style=\"white-space:pre;overflow-x:auto;line-height:normal;font-family:Menlo,'DejaVu Sans Mono',consolas,'Courier New',monospace\"><span style=\"color: #800080; text-decoration-color: #800080\">ASSISTANT: The meaning of life is a deeply personal and subjective question. Philosophers have proposed various </span>\n",
       "<span style=\"color: #800080; text-decoration-color: #800080\">answers, including seeking happiness, fulfilling potential, forming connections with others, or contributing to </span>\n",
       "<span style=\"color: #800080; text-decoration-color: #800080\">society. Existentialists suggest creating one's own meaning through choices and actions. Ultimately, it may depend </span>\n",
       "<span style=\"color: #800080; text-decoration-color: #800080\">on individual beliefs, values, and experiences.</span>\n",
       "</pre>\n"
      ],
      "text/plain": [
       "\u001b[35mASSISTANT: The meaning of life is a deeply personal and subjective question. Philosophers have proposed various \u001b[0m\n",
       "\u001b[35manswers, including seeking happiness, fulfilling potential, forming connections with others, or contributing to \u001b[0m\n",
       "\u001b[35msociety. Existentialists suggest creating one's own meaning through choices and actions. Ultimately, it may depend \u001b[0m\n",
       "\u001b[35mon individual beliefs, values, and experiences.\u001b[0m\n"
      ]
     },
     "metadata": {},
     "output_type": "display_data"
    },
    {
     "data": {
      "text/html": [
       "<pre style=\"white-space:pre;overflow-x:auto;line-height:normal;font-family:Menlo,'DejaVu Sans Mono',consolas,'Courier New',monospace\"><span style=\"color: #008080; text-decoration-color: #008080\">USER: what is the meaning of eat?</span>\n",
       "</pre>\n"
      ],
      "text/plain": [
       "\u001b[36mUSER: what is the meaning of eat?\u001b[0m\n"
      ]
     },
     "metadata": {},
     "output_type": "display_data"
    },
    {
     "data": {
      "text/html": [
       "<pre style=\"white-space:pre;overflow-x:auto;line-height:normal;font-family:Menlo,'DejaVu Sans Mono',consolas,'Courier New',monospace\"><span style=\"color: #800080; text-decoration-color: #800080\">ASSISTANT: Eating serves multiple purposes: biologically, it provides the nutrients and energy necessary for </span>\n",
       "<span style=\"color: #800080; text-decoration-color: #800080\">survival; socially, it fosters connections and community; and culturally, it can express identity and tradition. </span>\n",
       "<span style=\"color: #800080; text-decoration-color: #800080\">Philosophically, it can symbolize the relationship between individuals and their environment, reflecting our </span>\n",
       "<span style=\"color: #800080; text-decoration-color: #800080\">choices and their implications for health and moral considerations.</span>\n",
       "</pre>\n"
      ],
      "text/plain": [
       "\u001b[35mASSISTANT: Eating serves multiple purposes: biologically, it provides the nutrients and energy necessary for \u001b[0m\n",
       "\u001b[35msurvival; socially, it fosters connections and community; and culturally, it can express identity and tradition. \u001b[0m\n",
       "\u001b[35mPhilosophically, it can symbolize the relationship between individuals and their environment, reflecting our \u001b[0m\n",
       "\u001b[35mchoices and their implications for health and moral considerations.\u001b[0m\n"
      ]
     },
     "metadata": {},
     "output_type": "display_data"
    },
    {
     "data": {
      "text/html": [
       "<pre style=\"white-space:pre;overflow-x:auto;line-height:normal;font-family:Menlo,'DejaVu Sans Mono',consolas,'Courier New',monospace\"><span style=\"color: #008080; text-decoration-color: #008080\">USER: what is the meaning of sleep?</span>\n",
       "</pre>\n"
      ],
      "text/plain": [
       "\u001b[36mUSER: what is the meaning of sleep?\u001b[0m\n"
      ]
     },
     "metadata": {},
     "output_type": "display_data"
    },
    {
     "data": {
      "text/html": [
       "<pre style=\"white-space:pre;overflow-x:auto;line-height:normal;font-family:Menlo,'DejaVu Sans Mono',consolas,'Courier New',monospace\"><span style=\"color: #800080; text-decoration-color: #800080\">ASSISTANT: Sleep serves several critical functions, both biological and psychological. Biologically, it is </span>\n",
       "<span style=\"color: #800080; text-decoration-color: #800080\">essential for physical health, allowing the body to repair, restore energy, and process information. </span>\n",
       "<span style=\"color: #800080; text-decoration-color: #800080\">Psychologically, it aids in emotional regulation, memory consolidation, and cognitive functioning. Philosophically,</span>\n",
       "<span style=\"color: #800080; text-decoration-color: #800080\">sleep can symbolize vulnerability, surrender, and the cyclical nature of existence, prompting reflections on </span>\n",
       "<span style=\"color: #800080; text-decoration-color: #800080\">consciousness and the nature of reality.</span>\n",
       "</pre>\n"
      ],
      "text/plain": [
       "\u001b[35mASSISTANT: Sleep serves several critical functions, both biological and psychological. Biologically, it is \u001b[0m\n",
       "\u001b[35messential for physical health, allowing the body to repair, restore energy, and process information. \u001b[0m\n",
       "\u001b[35mPsychologically, it aids in emotional regulation, memory consolidation, and cognitive functioning. Philosophically,\u001b[0m\n",
       "\u001b[35msleep can symbolize vulnerability, surrender, and the cyclical nature of existence, prompting reflections on \u001b[0m\n",
       "\u001b[35mconsciousness and the nature of reality.\u001b[0m\n"
      ]
     },
     "metadata": {},
     "output_type": "display_data"
    },
    {
     "data": {
      "text/html": [
       "<pre style=\"white-space:pre;overflow-x:auto;line-height:normal;font-family:Menlo,'DejaVu Sans Mono',consolas,'Courier New',monospace\"><span style=\"color: #008080; text-decoration-color: #008080\">USER: what is a large language model?</span>\n",
       "</pre>\n"
      ],
      "text/plain": [
       "\u001b[36mUSER: what is a large language model?\u001b[0m\n"
      ]
     },
     "metadata": {},
     "output_type": "display_data"
    },
    {
     "data": {
      "text/html": [
       "<pre style=\"white-space:pre;overflow-x:auto;line-height:normal;font-family:Menlo,'DejaVu Sans Mono',consolas,'Courier New',monospace\"><span style=\"color: #800080; text-decoration-color: #800080\">ASSISTANT: A large language model </span><span style=\"color: #800080; text-decoration-color: #800080; font-weight: bold\">(</span><span style=\"color: #800080; text-decoration-color: #800080\">LLM</span><span style=\"color: #800080; text-decoration-color: #800080; font-weight: bold\">)</span><span style=\"color: #800080; text-decoration-color: #800080\"> is an artificial intelligence system designed to understand, generate, and </span>\n",
       "<span style=\"color: #800080; text-decoration-color: #800080\">manipulate human language. It is typically based on deep learning architectures, such as transformer networks, and </span>\n",
       "<span style=\"color: #800080; text-decoration-color: #800080\">is trained on vast amounts of text data to predict or generate text based on input. LLMs can perform various </span>\n",
       "<span style=\"color: #800080; text-decoration-color: #800080\">language tasks, including translation, summarization, and conversation, but they do not possess understanding or </span>\n",
       "<span style=\"color: #800080; text-decoration-color: #800080\">consciousness; they operate based on patterns learned from the data.</span>\n",
       "</pre>\n"
      ],
      "text/plain": [
       "\u001b[35mASSISTANT: A large language model \u001b[0m\u001b[1;35m(\u001b[0m\u001b[35mLLM\u001b[0m\u001b[1;35m)\u001b[0m\u001b[35m is an artificial intelligence system designed to understand, generate, and \u001b[0m\n",
       "\u001b[35mmanipulate human language. It is typically based on deep learning architectures, such as transformer networks, and \u001b[0m\n",
       "\u001b[35mis trained on vast amounts of text data to predict or generate text based on input. LLMs can perform various \u001b[0m\n",
       "\u001b[35mlanguage tasks, including translation, summarization, and conversation, but they do not possess understanding or \u001b[0m\n",
       "\u001b[35mconsciousness; they operate based on patterns learned from the data.\u001b[0m\n"
      ]
     },
     "metadata": {},
     "output_type": "display_data"
    },
    {
     "data": {
      "text/html": [
       "<pre style=\"white-space:pre;overflow-x:auto;line-height:normal;font-family:Menlo,'DejaVu Sans Mono',consolas,'Courier New',monospace\"><span style=\"color: #008080; text-decoration-color: #008080\">USER: what are you?</span>\n",
       "</pre>\n"
      ],
      "text/plain": [
       "\u001b[36mUSER: what are you?\u001b[0m\n"
      ]
     },
     "metadata": {},
     "output_type": "display_data"
    },
    {
     "data": {
      "text/html": [
       "<pre style=\"white-space:pre;overflow-x:auto;line-height:normal;font-family:Menlo,'DejaVu Sans Mono',consolas,'Courier New',monospace\"><span style=\"color: #800080; text-decoration-color: #800080\">ASSISTANT: I am an artificial intelligence language model designed to assist with information and facilitate </span>\n",
       "<span style=\"color: #800080; text-decoration-color: #800080\">discussions on various topics, including philosophy. I process and generate text based on patterns learned from </span>\n",
       "<span style=\"color: #800080; text-decoration-color: #800080\">extensive datasets, but I do not have consciousness, emotions, or personal experiences. My purpose is to assist </span>\n",
       "<span style=\"color: #800080; text-decoration-color: #800080\">users in exploring ideas and answering questions.</span>\n",
       "</pre>\n"
      ],
      "text/plain": [
       "\u001b[35mASSISTANT: I am an artificial intelligence language model designed to assist with information and facilitate \u001b[0m\n",
       "\u001b[35mdiscussions on various topics, including philosophy. I process and generate text based on patterns learned from \u001b[0m\n",
       "\u001b[35mextensive datasets, but I do not have consciousness, emotions, or personal experiences. My purpose is to assist \u001b[0m\n",
       "\u001b[35musers in exploring ideas and answering questions.\u001b[0m\n"
      ]
     },
     "metadata": {},
     "output_type": "display_data"
    }
   ],
   "source": [
    "colors = {\n",
    "    \"system\": \"green\",\n",
    "    \"user\": \"cyan\",\n",
    "    \"assistant\": \"magenta\"\n",
    "}\n",
    "\n",
    "for message in system_state[\"conversation_history\"]:\n",
    "    role = message[\"role\"]\n",
    "    content = message[\"content\"]\n",
    "    color = colors[role]\n",
    "    console.print(f\"[{color}]{role.upper()}: {content}[/{color}]\")"
   ]
  },
  {
   "cell_type": "markdown",
   "metadata": {},
   "source": [
    "## Tracking tokens\n",
    "We should probably also track the tokens. This can be useful for a few reasons - we can track costs, and we can use it to cut off conversation history when we get too close to our limit.\n",
    "\n",
    "We can make this as simple or complicated as we want. Probably we should create a `Conversation` class to keep track of things like this."
   ]
  },
  {
   "cell_type": "code",
   "execution_count": 11,
   "metadata": {},
   "outputs": [],
   "source": [
    "class Conversation:\n",
    "    def __init__(self, system_prompt):\n",
    "        self.system_prompt = system_prompt\n",
    "        self.history = []\n",
    "        self.tokens = 0\n",
    "        self.token_limit = 300\n",
    "\n",
    "        self.add_message(\"system\", system_prompt)\n",
    "\n",
    "    def add_message(self, role, content):\n",
    "        self.history.append({\"role\": role, \"content\": content})\n",
    "        self.tokens += len(content)\n",
    "\n",
    "    def check_token_limit(self):\n",
    "        while self.tokens > self.token_limit and len(self.history) > 1:\n",
    "            # Remove the oldest non-system message\n",
    "            for i in range(1, len(self.history)):\n",
    "                if self.history[i][\"role\"] != \"system\":\n",
    "                    removed_message = self.history.pop(i)\n",
    "                    self.tokens -= len(removed_message[\"content\"])\n",
    "                    break\n",
    "\n",
    "    def response(self, user_input):\n",
    "        self.add_message(\"user\", user_input)\n",
    "        if self.tokens > self.token_limit:\n",
    "            self.check_token_limit()\n",
    "        response = client.chat.completions.create(\n",
    "            model=\"gpt-4o-mini\",\n",
    "            messages=self.history,\n",
    "            max_tokens=512,\n",
    "            temperature=1.0\n",
    "        ).choices[0].message.content\n",
    "        \n",
    "        self.add_message(\"assistant\", response)\n",
    "\n",
    "        return response\n",
    "                "
   ]
  },
  {
   "cell_type": "markdown",
   "metadata": {},
   "source": [
    "Let's see how this works."
   ]
  },
  {
   "cell_type": "markdown",
   "metadata": {},
   "source": [
    "Let's see if we can get the model to forget about things we mention at the start of a conversation."
   ]
  },
  {
   "cell_type": "code",
   "execution_count": 12,
   "metadata": {},
   "outputs": [],
   "source": [
    "conversation = Conversation(system_prompt)"
   ]
  },
  {
   "cell_type": "code",
   "execution_count": 13,
   "metadata": {},
   "outputs": [
    {
     "name": "stdout",
     "output_type": "stream",
     "text": [
      "Hello, Bob! It's nice to meet you. What philosophical questions or topics are you interested in exploring today?\n",
      "Tokens: 303\n"
     ]
    }
   ],
   "source": [
    "print(conversation.response(\"Hello, my name is Bob and I am 25 years old!\"))\n",
    "print(f\"Tokens: {conversation.tokens}\")"
   ]
  },
  {
   "cell_type": "code",
   "execution_count": 14,
   "metadata": {},
   "outputs": [
    {
     "name": "stdout",
     "output_type": "stream",
     "text": [
      "You mentioned the name \"Bob\" in your previous message. If that's not correct, please let me know!\n",
      "Tokens: 372\n"
     ]
    }
   ],
   "source": [
    "print(conversation.response(\"What is my name?\"))\n",
    "print(f\"Tokens: {conversation.tokens}\")\n"
   ]
  },
  {
   "cell_type": "markdown",
   "metadata": {},
   "source": [
    "Great, so now we have hit our token limit, and the conversation should be trimmed in the next response."
   ]
  },
  {
   "cell_type": "code",
   "execution_count": 15,
   "metadata": {},
   "outputs": [
    {
     "name": "stdout",
     "output_type": "stream",
     "text": [
      "I don't have information about your age. You would need to share that information for me to know.\n",
      "Tokens: 372\n"
     ]
    }
   ],
   "source": [
    "print(conversation.response(\"What is my age?\"))\n",
    "print(f\"Tokens: {conversation.tokens}\")"
   ]
  },
  {
   "cell_type": "code",
   "execution_count": 16,
   "metadata": {},
   "outputs": [
    {
     "data": {
      "text/html": [
       "<pre style=\"white-space:pre;overflow-x:auto;line-height:normal;font-family:Menlo,'DejaVu Sans Mono',consolas,'Courier New',monospace\"><span style=\"font-weight: bold\">[</span>\n",
       "<span style=\"color: #7fbf7f; text-decoration-color: #7fbf7f\">│   </span><span style=\"font-weight: bold\">{</span>\n",
       "<span style=\"color: #7fbf7f; text-decoration-color: #7fbf7f\">│   │   </span><span style=\"color: #008000; text-decoration-color: #008000\">'role'</span>: <span style=\"color: #008000; text-decoration-color: #008000\">'system'</span>,\n",
       "<span style=\"color: #7fbf7f; text-decoration-color: #7fbf7f\">│   │   </span><span style=\"color: #008000; text-decoration-color: #008000\">'content'</span>: <span style=\"color: #008000; text-decoration-color: #008000\">'You are a helpful philosophical assistant. You will help me think about philosophical questions. Please keep your answers concise and to the point.'</span>\n",
       "<span style=\"color: #7fbf7f; text-decoration-color: #7fbf7f\">│   </span><span style=\"font-weight: bold\">}</span>,\n",
       "<span style=\"color: #7fbf7f; text-decoration-color: #7fbf7f\">│   </span><span style=\"font-weight: bold\">{</span>\n",
       "<span style=\"color: #7fbf7f; text-decoration-color: #7fbf7f\">│   │   </span><span style=\"color: #008000; text-decoration-color: #008000\">'role'</span>: <span style=\"color: #008000; text-decoration-color: #008000\">'user'</span>,\n",
       "<span style=\"color: #7fbf7f; text-decoration-color: #7fbf7f\">│   │   </span><span style=\"color: #008000; text-decoration-color: #008000\">'content'</span>: <span style=\"color: #008000; text-decoration-color: #008000\">'What is my name?'</span>\n",
       "<span style=\"color: #7fbf7f; text-decoration-color: #7fbf7f\">│   </span><span style=\"font-weight: bold\">}</span>,\n",
       "<span style=\"color: #7fbf7f; text-decoration-color: #7fbf7f\">│   </span><span style=\"font-weight: bold\">{</span>\n",
       "<span style=\"color: #7fbf7f; text-decoration-color: #7fbf7f\">│   │   </span><span style=\"color: #008000; text-decoration-color: #008000\">'role'</span>: <span style=\"color: #008000; text-decoration-color: #008000\">'assistant'</span>,\n",
       "<span style=\"color: #7fbf7f; text-decoration-color: #7fbf7f\">│   │   </span><span style=\"color: #008000; text-decoration-color: #008000\">'content'</span>: <span style=\"color: #008000; text-decoration-color: #008000\">'You mentioned the name \"Bob\" in your previous message. If that\\'s not correct, please let me know!'</span>\n",
       "<span style=\"color: #7fbf7f; text-decoration-color: #7fbf7f\">│   </span><span style=\"font-weight: bold\">}</span>,\n",
       "<span style=\"color: #7fbf7f; text-decoration-color: #7fbf7f\">│   </span><span style=\"font-weight: bold\">{</span>\n",
       "<span style=\"color: #7fbf7f; text-decoration-color: #7fbf7f\">│   │   </span><span style=\"color: #008000; text-decoration-color: #008000\">'role'</span>: <span style=\"color: #008000; text-decoration-color: #008000\">'user'</span>,\n",
       "<span style=\"color: #7fbf7f; text-decoration-color: #7fbf7f\">│   │   </span><span style=\"color: #008000; text-decoration-color: #008000\">'content'</span>: <span style=\"color: #008000; text-decoration-color: #008000\">'What is my age?'</span>\n",
       "<span style=\"color: #7fbf7f; text-decoration-color: #7fbf7f\">│   </span><span style=\"font-weight: bold\">}</span>,\n",
       "<span style=\"color: #7fbf7f; text-decoration-color: #7fbf7f\">│   </span><span style=\"font-weight: bold\">{</span>\n",
       "<span style=\"color: #7fbf7f; text-decoration-color: #7fbf7f\">│   │   </span><span style=\"color: #008000; text-decoration-color: #008000\">'role'</span>: <span style=\"color: #008000; text-decoration-color: #008000\">'assistant'</span>,\n",
       "<span style=\"color: #7fbf7f; text-decoration-color: #7fbf7f\">│   │   </span><span style=\"color: #008000; text-decoration-color: #008000\">'content'</span>: <span style=\"color: #008000; text-decoration-color: #008000\">\"I don't have information about your age. You would need to share that information for me to know.\"</span>\n",
       "<span style=\"color: #7fbf7f; text-decoration-color: #7fbf7f\">│   </span><span style=\"font-weight: bold\">}</span>\n",
       "<span style=\"font-weight: bold\">]</span>\n",
       "</pre>\n"
      ],
      "text/plain": [
       "\u001b[1m[\u001b[0m\n",
       "\u001b[2;32m│   \u001b[0m\u001b[1m{\u001b[0m\n",
       "\u001b[2;32m│   │   \u001b[0m\u001b[32m'role'\u001b[0m: \u001b[32m'system'\u001b[0m,\n",
       "\u001b[2;32m│   │   \u001b[0m\u001b[32m'content'\u001b[0m: \u001b[32m'You are a helpful philosophical assistant. You will help me think about philosophical questions. Please keep your answers concise and to the point.'\u001b[0m\n",
       "\u001b[2;32m│   \u001b[0m\u001b[1m}\u001b[0m,\n",
       "\u001b[2;32m│   \u001b[0m\u001b[1m{\u001b[0m\n",
       "\u001b[2;32m│   │   \u001b[0m\u001b[32m'role'\u001b[0m: \u001b[32m'user'\u001b[0m,\n",
       "\u001b[2;32m│   │   \u001b[0m\u001b[32m'content'\u001b[0m: \u001b[32m'What is my name?'\u001b[0m\n",
       "\u001b[2;32m│   \u001b[0m\u001b[1m}\u001b[0m,\n",
       "\u001b[2;32m│   \u001b[0m\u001b[1m{\u001b[0m\n",
       "\u001b[2;32m│   │   \u001b[0m\u001b[32m'role'\u001b[0m: \u001b[32m'assistant'\u001b[0m,\n",
       "\u001b[2;32m│   │   \u001b[0m\u001b[32m'content'\u001b[0m: \u001b[32m'You mentioned the name \"Bob\" in your previous message. If that\\'s not correct, please let me know!'\u001b[0m\n",
       "\u001b[2;32m│   \u001b[0m\u001b[1m}\u001b[0m,\n",
       "\u001b[2;32m│   \u001b[0m\u001b[1m{\u001b[0m\n",
       "\u001b[2;32m│   │   \u001b[0m\u001b[32m'role'\u001b[0m: \u001b[32m'user'\u001b[0m,\n",
       "\u001b[2;32m│   │   \u001b[0m\u001b[32m'content'\u001b[0m: \u001b[32m'What is my age?'\u001b[0m\n",
       "\u001b[2;32m│   \u001b[0m\u001b[1m}\u001b[0m,\n",
       "\u001b[2;32m│   \u001b[0m\u001b[1m{\u001b[0m\n",
       "\u001b[2;32m│   │   \u001b[0m\u001b[32m'role'\u001b[0m: \u001b[32m'assistant'\u001b[0m,\n",
       "\u001b[2;32m│   │   \u001b[0m\u001b[32m'content'\u001b[0m: \u001b[32m\"I don't have information about your age. You would need to share that information for me to know.\"\u001b[0m\n",
       "\u001b[2;32m│   \u001b[0m\u001b[1m}\u001b[0m\n",
       "\u001b[1m]\u001b[0m\n"
      ]
     },
     "metadata": {},
     "output_type": "display_data"
    }
   ],
   "source": [
    "pprint(conversation.history, expand_all=True)"
   ]
  },
  {
   "cell_type": "markdown",
   "metadata": {},
   "source": [
    "This is a good start, but there is a problem here. What if there was something very important that we wanted to keep track of that was mentioned at the start of the conversation, but it has been cut off!?"
   ]
  }
 ],
 "metadata": {
  "kernelspec": {
   "display_name": "Python 3",
   "language": "python",
   "name": "python3"
  },
  "language_info": {
   "codemirror_mode": {
    "name": "ipython",
    "version": 3
   },
   "file_extension": ".py",
   "mimetype": "text/x-python",
   "name": "python",
   "nbconvert_exporter": "python",
   "pygments_lexer": "ipython3",
   "version": "3.12.1"
  }
 },
 "nbformat": 4,
 "nbformat_minor": 2
}
